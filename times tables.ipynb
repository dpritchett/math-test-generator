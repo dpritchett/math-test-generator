{
 "cells": [
  {
   "cell_type": "code",
   "execution_count": 32,
   "metadata": {
    "collapsed": false,
    "scrolled": false
   },
   "outputs": [],
   "source": [
    "from random import shuffle, randint\n",
    "from jinja2 import Template\n",
    "\n",
    "def test_pairs(n=1):\n",
    "    result = []\n",
    "    \n",
    "    for num in list(range(13)):\n",
    "        pair = [n, num]\n",
    "        shuffle(pair)\n",
    "        result.append(pair)\n",
    "                     \n",
    "    shuffle(result)\n",
    "    return result\n",
    "\n",
    "jinja_template = \"\"\"\n",
    "<head>\n",
    "  <style>\n",
    "     body { font-family: verdana; }\n",
    "     table { line-height: 200%; margin-left: 40px; border: 1px black solid; padding: 10px; }\n",
    "     td { padding: 5px; }\n",
    "  </style>\n",
    "</head>\n",
    "<h1>Multiplication test: {{ n }}'s</h1>\n",
    "\n",
    "<table>\n",
    "{% for row in rows %}\n",
    "<tr align=right>\n",
    "  <td>{{ row[0] }} </td><td> x </td><td>{{ row[-1] }}</td><td>   </td><td> = </td><td>_______</td>\n",
    "</tr>\n",
    "{% endfor %}\n",
    "</table>\n",
    "\"\"\"\n",
    "\n",
    "def html_test(n):\n",
    "    rows = test_pairs(n)\n",
    "    tpl = Template(jinja_template)\n",
    "    \n",
    "    return tpl.render(n=n, rows=rows)"
   ]
  },
  {
   "cell_type": "code",
   "execution_count": 33,
   "metadata": {
    "collapsed": false
   },
   "outputs": [],
   "source": [
    "import webbrowser\n",
    "import tempfile\n",
    "\n",
    "def render_test(n):\n",
    "    # persists indefinitely in OS temp folder\n",
    "    outfile = tempfile.NamedTemporaryFile(\"w\", suffix=\".html\", delete=False)\n",
    "    outfile.write(html_test(n))\n",
    "    outfile.close()\n",
    "    webbrowser.open(outfile.name)"
   ]
  },
  {
   "cell_type": "code",
   "execution_count": 34,
   "metadata": {
    "collapsed": false
   },
   "outputs": [],
   "source": [
    "tested_number = 3\n",
    "\n",
    "render_test(tested_number)"
   ]
  }
 ],
 "metadata": {
  "kernelspec": {
   "display_name": "Python 3",
   "language": "python",
   "name": "python3"
  },
  "language_info": {
   "codemirror_mode": {
    "name": "ipython",
    "version": 3
   },
   "file_extension": ".py",
   "mimetype": "text/x-python",
   "name": "python",
   "nbconvert_exporter": "python",
   "pygments_lexer": "ipython3",
   "version": "3.5.1"
  }
 },
 "nbformat": 4,
 "nbformat_minor": 0
}
